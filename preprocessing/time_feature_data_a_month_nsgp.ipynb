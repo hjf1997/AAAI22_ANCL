{
 "cells": [
  {
   "cell_type": "code",
   "execution_count": 1,
   "id": "f7f1cfa6",
   "metadata": {
    "pycharm": {
     "name": "#%%\n"
    }
   },
   "outputs": [],
   "source": [
    "import pandas as pd\n",
    "import numpy as np\n",
    "import sys\n",
    "import matplotlib.pyplot as plt\n",
    "from sklearn.model_selection import KFold\n",
    "from sklearn.preprocessing import StandardScaler\n",
    "from sklearn.metrics import mean_squared_error\n",
    "import warnings\n",
    "from IPython.display import clear_output\n",
    "from multiprocessing import Pool\n",
    "from time import time\n",
    "warnings.filterwarnings('ignore')"
   ]
  },
  {
   "cell_type": "code",
   "execution_count": 2,
   "id": "cd0ef084",
   "metadata": {
    "pycharm": {
     "name": "#%%\n"
    }
   },
   "outputs": [],
   "source": [
    "def get_time_spaced_traindata(data):\n",
    "    data['delta_t'] = np.int64((data.index - data.index[0]).total_seconds() // 3600) + 1\n",
    "#     data = data.drop(columns=['station_id'])\n",
    "#     data.index = range(len(data))\n",
    "    return data\n",
    "\n",
    "def get_time_spaced_testdata(data):\n",
    "    data['delta_t'] = np.int64((data.index - data.index[0]).total_seconds() // 3600) + 1  \n",
    "#     data = data.drop(columns=['station_id'])\n",
    "#     data.index = range(len(data))\n",
    "    aq_data = data['PM25_Concentration']\n",
    "    data.drop(columns=['PM25_Concentration'])\n",
    "    return data,aq_data"
   ]
  },
  {
   "cell_type": "code",
   "execution_count": 30,
   "id": "5af43c5d",
   "metadata": {
    "pycharm": {
     "name": "#%%\n"
    }
   },
   "outputs": [
    {
     "name": "stdout",
     "output_type": "stream",
     "text": [
      "fold 2\n"
     ]
    }
   ],
   "source": [
    "fold=2 # not using for loop to avoid ram overflow\n",
    "print('fold', fold)\n",
    "\n",
    "train_data = pd.read_csv('../data/NP/fold_'+str(fold)+'_train_nsgp.csv.gz')\n",
    "train_data['time'] = pd.to_datetime(train_data['time'])\n",
    "train_data = train_data.set_index('time').sort_values(['time', 'station_id'])\n",
    "\n",
    "test_data = pd.read_csv('../data/NP/fold_'+str(fold)+'_test_nsgp.csv.gz')\n",
    "test_data['time'] = pd.to_datetime(test_data['time'])\n",
    "test_data = test_data.set_index('time').sort_values(['time', 'station_id'])"
   ]
  },
  {
   "cell_type": "code",
   "execution_count": 31,
   "id": "9cc5eeb3",
   "metadata": {
    "pycharm": {
     "name": "#%%\n"
    }
   },
   "outputs": [],
   "source": [
    "train_input = get_time_spaced_traindata(train_data)\n",
    "test_input,test_output = get_time_spaced_testdata(test_data)"
   ]
  },
  {
   "cell_type": "code",
   "execution_count": 32,
   "id": "b4c06fbd",
   "metadata": {
    "scrolled": true,
    "pycharm": {
     "name": "#%%\n"
    }
   },
   "outputs": [
    {
     "data": {
      "text/plain": "                     station_id   longitude   latitude  PM25_Concentration  \\\ntime                                                                         \n2014-05-01 00:00:00        1002  116.205310  40.003950                89.0   \n2014-05-01 00:00:00        1003  116.184239  39.914409               105.0   \n2014-05-01 00:00:00        1004  116.171150  39.815128                98.0   \n2014-05-01 00:00:00        1005  116.136045  39.742767               109.0   \n2014-05-01 00:00:00        1006  116.287451  39.987313                87.0   \n...                         ...         ...        ...                 ...   \n2015-03-25 11:00:00        1031  115.988000  40.365000               140.0   \n2015-03-25 11:00:00        1032  116.911000  40.499000               111.0   \n2015-03-25 11:00:00        1033  117.120000  40.100000               130.0   \n2015-03-25 11:00:00        1034  116.783000  39.712000               178.0   \n2015-03-25 11:00:00        1035  116.300000  39.520000               165.0   \n\n                     weather  temperature  humidity  wind_speed  \\\ntime                                                              \n2014-05-01 00:00:00      0.0         20.0      56.0        7.92   \n2014-05-01 00:00:00      0.0         20.0      56.0        7.92   \n2014-05-01 00:00:00      0.0         20.0      56.0        7.92   \n2014-05-01 00:00:00      0.0         19.0      61.0       11.16   \n2014-05-01 00:00:00      0.0         20.0      56.0        7.92   \n...                      ...          ...       ...         ...   \n2015-03-25 11:00:00      0.0         12.0      29.0        3.96   \n2015-03-25 11:00:00      0.0         13.0      30.0        5.04   \n2015-03-25 11:00:00      0.0         13.0      30.0        5.04   \n2015-03-25 11:00:00      0.0         13.0      29.0        3.00   \n2015-03-25 11:00:00      0.0         14.0      34.0        9.36   \n\n                     wind_direction  filled  delta_t  \ntime                                                  \n2014-05-01 00:00:00            13.0   False        1  \n2014-05-01 00:00:00            13.0   False        1  \n2014-05-01 00:00:00            13.0   False        1  \n2014-05-01 00:00:00            13.0   False        1  \n2014-05-01 00:00:00            13.0   False        1  \n...                             ...     ...      ...  \n2015-03-25 11:00:00            24.0   False     7884  \n2015-03-25 11:00:00            23.0   False     7884  \n2015-03-25 11:00:00            23.0   False     7884  \n2015-03-25 11:00:00            13.0   False     7884  \n2015-03-25 11:00:00            13.0   False     7884  \n\n[157680 rows x 11 columns]",
      "text/html": "<div>\n<style scoped>\n    .dataframe tbody tr th:only-of-type {\n        vertical-align: middle;\n    }\n\n    .dataframe tbody tr th {\n        vertical-align: top;\n    }\n\n    .dataframe thead th {\n        text-align: right;\n    }\n</style>\n<table border=\"1\" class=\"dataframe\">\n  <thead>\n    <tr style=\"text-align: right;\">\n      <th></th>\n      <th>station_id</th>\n      <th>longitude</th>\n      <th>latitude</th>\n      <th>PM25_Concentration</th>\n      <th>weather</th>\n      <th>temperature</th>\n      <th>humidity</th>\n      <th>wind_speed</th>\n      <th>wind_direction</th>\n      <th>filled</th>\n      <th>delta_t</th>\n    </tr>\n    <tr>\n      <th>time</th>\n      <th></th>\n      <th></th>\n      <th></th>\n      <th></th>\n      <th></th>\n      <th></th>\n      <th></th>\n      <th></th>\n      <th></th>\n      <th></th>\n      <th></th>\n    </tr>\n  </thead>\n  <tbody>\n    <tr>\n      <th>2014-05-01 00:00:00</th>\n      <td>1002</td>\n      <td>116.205310</td>\n      <td>40.003950</td>\n      <td>89.0</td>\n      <td>0.0</td>\n      <td>20.0</td>\n      <td>56.0</td>\n      <td>7.92</td>\n      <td>13.0</td>\n      <td>False</td>\n      <td>1</td>\n    </tr>\n    <tr>\n      <th>2014-05-01 00:00:00</th>\n      <td>1003</td>\n      <td>116.184239</td>\n      <td>39.914409</td>\n      <td>105.0</td>\n      <td>0.0</td>\n      <td>20.0</td>\n      <td>56.0</td>\n      <td>7.92</td>\n      <td>13.0</td>\n      <td>False</td>\n      <td>1</td>\n    </tr>\n    <tr>\n      <th>2014-05-01 00:00:00</th>\n      <td>1004</td>\n      <td>116.171150</td>\n      <td>39.815128</td>\n      <td>98.0</td>\n      <td>0.0</td>\n      <td>20.0</td>\n      <td>56.0</td>\n      <td>7.92</td>\n      <td>13.0</td>\n      <td>False</td>\n      <td>1</td>\n    </tr>\n    <tr>\n      <th>2014-05-01 00:00:00</th>\n      <td>1005</td>\n      <td>116.136045</td>\n      <td>39.742767</td>\n      <td>109.0</td>\n      <td>0.0</td>\n      <td>19.0</td>\n      <td>61.0</td>\n      <td>11.16</td>\n      <td>13.0</td>\n      <td>False</td>\n      <td>1</td>\n    </tr>\n    <tr>\n      <th>2014-05-01 00:00:00</th>\n      <td>1006</td>\n      <td>116.287451</td>\n      <td>39.987313</td>\n      <td>87.0</td>\n      <td>0.0</td>\n      <td>20.0</td>\n      <td>56.0</td>\n      <td>7.92</td>\n      <td>13.0</td>\n      <td>False</td>\n      <td>1</td>\n    </tr>\n    <tr>\n      <th>...</th>\n      <td>...</td>\n      <td>...</td>\n      <td>...</td>\n      <td>...</td>\n      <td>...</td>\n      <td>...</td>\n      <td>...</td>\n      <td>...</td>\n      <td>...</td>\n      <td>...</td>\n      <td>...</td>\n    </tr>\n    <tr>\n      <th>2015-03-25 11:00:00</th>\n      <td>1031</td>\n      <td>115.988000</td>\n      <td>40.365000</td>\n      <td>140.0</td>\n      <td>0.0</td>\n      <td>12.0</td>\n      <td>29.0</td>\n      <td>3.96</td>\n      <td>24.0</td>\n      <td>False</td>\n      <td>7884</td>\n    </tr>\n    <tr>\n      <th>2015-03-25 11:00:00</th>\n      <td>1032</td>\n      <td>116.911000</td>\n      <td>40.499000</td>\n      <td>111.0</td>\n      <td>0.0</td>\n      <td>13.0</td>\n      <td>30.0</td>\n      <td>5.04</td>\n      <td>23.0</td>\n      <td>False</td>\n      <td>7884</td>\n    </tr>\n    <tr>\n      <th>2015-03-25 11:00:00</th>\n      <td>1033</td>\n      <td>117.120000</td>\n      <td>40.100000</td>\n      <td>130.0</td>\n      <td>0.0</td>\n      <td>13.0</td>\n      <td>30.0</td>\n      <td>5.04</td>\n      <td>23.0</td>\n      <td>False</td>\n      <td>7884</td>\n    </tr>\n    <tr>\n      <th>2015-03-25 11:00:00</th>\n      <td>1034</td>\n      <td>116.783000</td>\n      <td>39.712000</td>\n      <td>178.0</td>\n      <td>0.0</td>\n      <td>13.0</td>\n      <td>29.0</td>\n      <td>3.00</td>\n      <td>13.0</td>\n      <td>False</td>\n      <td>7884</td>\n    </tr>\n    <tr>\n      <th>2015-03-25 11:00:00</th>\n      <td>1035</td>\n      <td>116.300000</td>\n      <td>39.520000</td>\n      <td>165.0</td>\n      <td>0.0</td>\n      <td>14.0</td>\n      <td>34.0</td>\n      <td>9.36</td>\n      <td>13.0</td>\n      <td>False</td>\n      <td>7884</td>\n    </tr>\n  </tbody>\n</table>\n<p>157680 rows × 11 columns</p>\n</div>"
     },
     "metadata": {},
     "output_type": "display_data"
    },
    {
     "data": {
      "text/plain": "                     station_id   longitude   latitude  PM25_Concentration  \\\ntime                                                                         \n2014-05-01 00:00:00        1008  116.348991  39.954047                91.0   \n2014-05-01 00:00:00        1012  116.460742  39.937119                78.0   \n2014-05-01 00:00:00        1016  116.279082  39.863470               106.0   \n2014-05-01 00:00:00        1017  116.406155  39.718147                86.0   \n2014-05-01 00:00:00        1022  116.443448  39.920993                87.0   \n...                         ...         ...        ...                 ...   \n2015-03-25 11:00:00        1024  116.230000  40.216999               119.0   \n2015-03-25 11:00:00        1026  117.099999  40.143000               140.0   \n2015-03-25 11:00:00        1027  116.628000  40.328000               128.0   \n2015-03-25 11:00:00        1028  116.831999  40.369999               138.0   \n2015-03-25 11:00:00        1036  116.000000  39.579999               160.0   \n\n                     weather  temperature  humidity  wind_speed  \\\ntime                                                              \n2014-05-01 00:00:00      0.0         20.0      56.0        7.92   \n2014-05-01 00:00:00      0.0         20.0      56.0        7.92   \n2014-05-01 00:00:00      0.0         20.0      56.0        7.92   \n2014-05-01 00:00:00      0.0         19.0      62.0        4.68   \n2014-05-01 00:00:00      0.0         20.0      56.0        7.92   \n...                      ...          ...       ...         ...   \n2015-03-25 11:00:00      0.0         13.0      29.0        8.50   \n2015-03-25 11:00:00      0.0         13.0      30.0        5.04   \n2015-03-25 11:00:00      0.0         13.0      26.0        7.56   \n2015-03-25 11:00:00      0.0         13.0      30.0        5.04   \n2015-03-25 11:00:00      0.0         13.0      30.0       10.08   \n\n                     wind_direction  filled  delta_t  \ntime                                                  \n2014-05-01 00:00:00            13.0   False        1  \n2014-05-01 00:00:00            13.0   False        1  \n2014-05-01 00:00:00            13.0   False        1  \n2014-05-01 00:00:00            13.0   False        1  \n2014-05-01 00:00:00            13.0   False        1  \n...                             ...     ...      ...  \n2015-03-25 11:00:00            13.0   False     7884  \n2015-03-25 11:00:00            23.0   False     7884  \n2015-03-25 11:00:00            13.0   False     7884  \n2015-03-25 11:00:00            23.0   False     7884  \n2015-03-25 11:00:00            13.0   False     7884  \n\n[78840 rows x 11 columns]",
      "text/html": "<div>\n<style scoped>\n    .dataframe tbody tr th:only-of-type {\n        vertical-align: middle;\n    }\n\n    .dataframe tbody tr th {\n        vertical-align: top;\n    }\n\n    .dataframe thead th {\n        text-align: right;\n    }\n</style>\n<table border=\"1\" class=\"dataframe\">\n  <thead>\n    <tr style=\"text-align: right;\">\n      <th></th>\n      <th>station_id</th>\n      <th>longitude</th>\n      <th>latitude</th>\n      <th>PM25_Concentration</th>\n      <th>weather</th>\n      <th>temperature</th>\n      <th>humidity</th>\n      <th>wind_speed</th>\n      <th>wind_direction</th>\n      <th>filled</th>\n      <th>delta_t</th>\n    </tr>\n    <tr>\n      <th>time</th>\n      <th></th>\n      <th></th>\n      <th></th>\n      <th></th>\n      <th></th>\n      <th></th>\n      <th></th>\n      <th></th>\n      <th></th>\n      <th></th>\n      <th></th>\n    </tr>\n  </thead>\n  <tbody>\n    <tr>\n      <th>2014-05-01 00:00:00</th>\n      <td>1008</td>\n      <td>116.348991</td>\n      <td>39.954047</td>\n      <td>91.0</td>\n      <td>0.0</td>\n      <td>20.0</td>\n      <td>56.0</td>\n      <td>7.92</td>\n      <td>13.0</td>\n      <td>False</td>\n      <td>1</td>\n    </tr>\n    <tr>\n      <th>2014-05-01 00:00:00</th>\n      <td>1012</td>\n      <td>116.460742</td>\n      <td>39.937119</td>\n      <td>78.0</td>\n      <td>0.0</td>\n      <td>20.0</td>\n      <td>56.0</td>\n      <td>7.92</td>\n      <td>13.0</td>\n      <td>False</td>\n      <td>1</td>\n    </tr>\n    <tr>\n      <th>2014-05-01 00:00:00</th>\n      <td>1016</td>\n      <td>116.279082</td>\n      <td>39.863470</td>\n      <td>106.0</td>\n      <td>0.0</td>\n      <td>20.0</td>\n      <td>56.0</td>\n      <td>7.92</td>\n      <td>13.0</td>\n      <td>False</td>\n      <td>1</td>\n    </tr>\n    <tr>\n      <th>2014-05-01 00:00:00</th>\n      <td>1017</td>\n      <td>116.406155</td>\n      <td>39.718147</td>\n      <td>86.0</td>\n      <td>0.0</td>\n      <td>19.0</td>\n      <td>62.0</td>\n      <td>4.68</td>\n      <td>13.0</td>\n      <td>False</td>\n      <td>1</td>\n    </tr>\n    <tr>\n      <th>2014-05-01 00:00:00</th>\n      <td>1022</td>\n      <td>116.443448</td>\n      <td>39.920993</td>\n      <td>87.0</td>\n      <td>0.0</td>\n      <td>20.0</td>\n      <td>56.0</td>\n      <td>7.92</td>\n      <td>13.0</td>\n      <td>False</td>\n      <td>1</td>\n    </tr>\n    <tr>\n      <th>...</th>\n      <td>...</td>\n      <td>...</td>\n      <td>...</td>\n      <td>...</td>\n      <td>...</td>\n      <td>...</td>\n      <td>...</td>\n      <td>...</td>\n      <td>...</td>\n      <td>...</td>\n      <td>...</td>\n    </tr>\n    <tr>\n      <th>2015-03-25 11:00:00</th>\n      <td>1024</td>\n      <td>116.230000</td>\n      <td>40.216999</td>\n      <td>119.0</td>\n      <td>0.0</td>\n      <td>13.0</td>\n      <td>29.0</td>\n      <td>8.50</td>\n      <td>13.0</td>\n      <td>False</td>\n      <td>7884</td>\n    </tr>\n    <tr>\n      <th>2015-03-25 11:00:00</th>\n      <td>1026</td>\n      <td>117.099999</td>\n      <td>40.143000</td>\n      <td>140.0</td>\n      <td>0.0</td>\n      <td>13.0</td>\n      <td>30.0</td>\n      <td>5.04</td>\n      <td>23.0</td>\n      <td>False</td>\n      <td>7884</td>\n    </tr>\n    <tr>\n      <th>2015-03-25 11:00:00</th>\n      <td>1027</td>\n      <td>116.628000</td>\n      <td>40.328000</td>\n      <td>128.0</td>\n      <td>0.0</td>\n      <td>13.0</td>\n      <td>26.0</td>\n      <td>7.56</td>\n      <td>13.0</td>\n      <td>False</td>\n      <td>7884</td>\n    </tr>\n    <tr>\n      <th>2015-03-25 11:00:00</th>\n      <td>1028</td>\n      <td>116.831999</td>\n      <td>40.369999</td>\n      <td>138.0</td>\n      <td>0.0</td>\n      <td>13.0</td>\n      <td>30.0</td>\n      <td>5.04</td>\n      <td>23.0</td>\n      <td>False</td>\n      <td>7884</td>\n    </tr>\n    <tr>\n      <th>2015-03-25 11:00:00</th>\n      <td>1036</td>\n      <td>116.000000</td>\n      <td>39.579999</td>\n      <td>160.0</td>\n      <td>0.0</td>\n      <td>13.0</td>\n      <td>30.0</td>\n      <td>10.08</td>\n      <td>13.0</td>\n      <td>False</td>\n      <td>7884</td>\n    </tr>\n  </tbody>\n</table>\n<p>78840 rows × 11 columns</p>\n</div>"
     },
     "metadata": {},
     "output_type": "display_data"
    },
    {
     "data": {
      "text/plain": "time\n2014-05-01 00:00:00     91.0\n2014-05-01 00:00:00     78.0\n2014-05-01 00:00:00    106.0\n2014-05-01 00:00:00     86.0\n2014-05-01 00:00:00     87.0\n                       ...  \n2015-03-25 11:00:00    119.0\n2015-03-25 11:00:00    140.0\n2015-03-25 11:00:00    128.0\n2015-03-25 11:00:00    138.0\n2015-03-25 11:00:00    160.0\nName: PM25_Concentration, Length: 78840, dtype: float64"
     },
     "metadata": {},
     "output_type": "display_data"
    }
   ],
   "source": [
    "display(train_input,test_input,test_output)"
   ]
  },
  {
   "cell_type": "code",
   "execution_count": 33,
   "id": "1966d6bb",
   "metadata": {
    "pycharm": {
     "name": "#%%\n"
    }
   },
   "outputs": [
    {
     "data": {
      "text/plain": "(157680, 11)"
     },
     "metadata": {},
     "output_type": "display_data"
    },
    {
     "data": {
      "text/plain": "(78840, 11)"
     },
     "metadata": {},
     "output_type": "display_data"
    },
    {
     "data": {
      "text/plain": "(78840,)"
     },
     "metadata": {},
     "output_type": "display_data"
    }
   ],
   "source": [
    "display(train_input.shape, test_input.shape, test_output.shape)"
   ]
  },
  {
   "cell_type": "code",
   "execution_count": 34,
   "id": "df529b12",
   "metadata": {
    "pycharm": {
     "name": "#%%\n"
    }
   },
   "outputs": [],
   "source": [
    "train_input.reset_index().to_csv('../data/NP/time_feature/fold'+str(fold)+'/train_data_nsgp.csv.gz', index=None)\n",
    "test_input.reset_index().to_csv('../data/NP/time_feature/fold'+str(fold)+'/test_data_nsgp.csv.gz', index=None)\n",
    "test_output.reset_index().to_csv('../data/NP/time_feature/fold'+str(fold)+'/test_output_nsgp.csv.gz', index=None)"
   ]
  },
  {
   "cell_type": "code",
   "execution_count": null,
   "outputs": [],
   "source": [],
   "metadata": {
    "collapsed": false,
    "pycharm": {
     "name": "#%%\n"
    }
   }
  }
 ],
 "metadata": {
  "kernelspec": {
   "display_name": "Python 3 (ipykernel)",
   "language": "python",
   "name": "python3"
  },
  "language_info": {
   "codemirror_mode": {
    "name": "ipython",
    "version": 3
   },
   "file_extension": ".py",
   "mimetype": "text/x-python",
   "name": "python",
   "nbconvert_exporter": "python",
   "pygments_lexer": "ipython3",
   "version": "3.7.10"
  }
 },
 "nbformat": 4,
 "nbformat_minor": 5
}