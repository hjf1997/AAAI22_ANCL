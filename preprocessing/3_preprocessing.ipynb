{
 "cells": [
  {
   "cell_type": "code",
   "execution_count": 1,
   "id": "c344ff41",
   "metadata": {
    "pycharm": {
     "name": "#%%\n"
    }
   },
   "outputs": [],
   "source": [
    "import pandas as pd\n",
    "import numpy as np\n",
    "import matplotlib.pyplot as plt\n",
    "import warnings\n",
    "warnings.filterwarnings('ignore')"
   ]
  },
  {
   "cell_type": "code",
   "execution_count": 2,
   "id": "5153331c",
   "metadata": {
    "pycharm": {
     "name": "#%%\n"
    }
   },
   "outputs": [
    {
     "data": {
      "text/plain": "                  time  station_id   longitude   latitude  PM25_Concentration  \\\n0  2014-05-01 00:00:00        1001  116.173553  40.090679               138.0   \n1  2014-05-01 00:00:00        1002  116.205310  40.003950                89.0   \n\n   PM10_Concentration  NO2_Concentration  CO_Concentration  O3_Concentration  \\\n0               159.4               56.3               0.9              50.8   \n1               132.9               30.5               0.8              96.5   \n\n   SO2_Concentration  weather  temperature  pressure  humidity  wind_speed  \\\n0               17.2      0.0         20.0    1004.0      56.0        7.92   \n1                7.6      0.0         20.0    1004.0      56.0        7.92   \n\n   wind_direction  \n0            13.0  \n1            13.0  ",
      "text/html": "<div>\n<style scoped>\n    .dataframe tbody tr th:only-of-type {\n        vertical-align: middle;\n    }\n\n    .dataframe tbody tr th {\n        vertical-align: top;\n    }\n\n    .dataframe thead th {\n        text-align: right;\n    }\n</style>\n<table border=\"1\" class=\"dataframe\">\n  <thead>\n    <tr style=\"text-align: right;\">\n      <th></th>\n      <th>time</th>\n      <th>station_id</th>\n      <th>longitude</th>\n      <th>latitude</th>\n      <th>PM25_Concentration</th>\n      <th>PM10_Concentration</th>\n      <th>NO2_Concentration</th>\n      <th>CO_Concentration</th>\n      <th>O3_Concentration</th>\n      <th>SO2_Concentration</th>\n      <th>weather</th>\n      <th>temperature</th>\n      <th>pressure</th>\n      <th>humidity</th>\n      <th>wind_speed</th>\n      <th>wind_direction</th>\n    </tr>\n  </thead>\n  <tbody>\n    <tr>\n      <th>0</th>\n      <td>2014-05-01 00:00:00</td>\n      <td>1001</td>\n      <td>116.173553</td>\n      <td>40.090679</td>\n      <td>138.0</td>\n      <td>159.4</td>\n      <td>56.3</td>\n      <td>0.9</td>\n      <td>50.8</td>\n      <td>17.2</td>\n      <td>0.0</td>\n      <td>20.0</td>\n      <td>1004.0</td>\n      <td>56.0</td>\n      <td>7.92</td>\n      <td>13.0</td>\n    </tr>\n    <tr>\n      <th>1</th>\n      <td>2014-05-01 00:00:00</td>\n      <td>1002</td>\n      <td>116.205310</td>\n      <td>40.003950</td>\n      <td>89.0</td>\n      <td>132.9</td>\n      <td>30.5</td>\n      <td>0.8</td>\n      <td>96.5</td>\n      <td>7.6</td>\n      <td>0.0</td>\n      <td>20.0</td>\n      <td>1004.0</td>\n      <td>56.0</td>\n      <td>7.92</td>\n      <td>13.0</td>\n    </tr>\n  </tbody>\n</table>\n</div>"
     },
     "execution_count": 2,
     "metadata": {},
     "output_type": "execute_result"
    }
   ],
   "source": [
    "beijing_aq_plus_met = pd.read_csv('tmp_beijing_aq_plus_met.csv.gz')\n",
    "beijing_aq_plus_met.head(2)"
   ]
  },
  {
   "cell_type": "markdown",
   "id": "0bea57f1",
   "metadata": {
    "pycharm": {
     "name": "#%% md\n"
    }
   },
   "source": [
    "### Drop pressure because of too much missing data"
   ]
  },
  {
   "cell_type": "code",
   "execution_count": 3,
   "id": "9cde1df4",
   "metadata": {
    "pycharm": {
     "name": "#%%\n"
    }
   },
   "outputs": [
    {
     "data": {
      "text/plain": "                  time  station_id   longitude   latitude  PM25_Concentration  \\\n0  2014-05-01 00:00:00        1001  116.173553  40.090679               138.0   \n1  2014-05-01 00:00:00        1002  116.205310  40.003950                89.0   \n\n   PM10_Concentration  NO2_Concentration  CO_Concentration  O3_Concentration  \\\n0               159.4               56.3               0.9              50.8   \n1               132.9               30.5               0.8              96.5   \n\n   SO2_Concentration  weather  temperature  humidity  wind_speed  \\\n0               17.2      0.0         20.0      56.0        7.92   \n1                7.6      0.0         20.0      56.0        7.92   \n\n   wind_direction  \n0            13.0  \n1            13.0  ",
      "text/html": "<div>\n<style scoped>\n    .dataframe tbody tr th:only-of-type {\n        vertical-align: middle;\n    }\n\n    .dataframe tbody tr th {\n        vertical-align: top;\n    }\n\n    .dataframe thead th {\n        text-align: right;\n    }\n</style>\n<table border=\"1\" class=\"dataframe\">\n  <thead>\n    <tr style=\"text-align: right;\">\n      <th></th>\n      <th>time</th>\n      <th>station_id</th>\n      <th>longitude</th>\n      <th>latitude</th>\n      <th>PM25_Concentration</th>\n      <th>PM10_Concentration</th>\n      <th>NO2_Concentration</th>\n      <th>CO_Concentration</th>\n      <th>O3_Concentration</th>\n      <th>SO2_Concentration</th>\n      <th>weather</th>\n      <th>temperature</th>\n      <th>humidity</th>\n      <th>wind_speed</th>\n      <th>wind_direction</th>\n    </tr>\n  </thead>\n  <tbody>\n    <tr>\n      <th>0</th>\n      <td>2014-05-01 00:00:00</td>\n      <td>1001</td>\n      <td>116.173553</td>\n      <td>40.090679</td>\n      <td>138.0</td>\n      <td>159.4</td>\n      <td>56.3</td>\n      <td>0.9</td>\n      <td>50.8</td>\n      <td>17.2</td>\n      <td>0.0</td>\n      <td>20.0</td>\n      <td>56.0</td>\n      <td>7.92</td>\n      <td>13.0</td>\n    </tr>\n    <tr>\n      <th>1</th>\n      <td>2014-05-01 00:00:00</td>\n      <td>1002</td>\n      <td>116.205310</td>\n      <td>40.003950</td>\n      <td>89.0</td>\n      <td>132.9</td>\n      <td>30.5</td>\n      <td>0.8</td>\n      <td>96.5</td>\n      <td>7.6</td>\n      <td>0.0</td>\n      <td>20.0</td>\n      <td>56.0</td>\n      <td>7.92</td>\n      <td>13.0</td>\n    </tr>\n  </tbody>\n</table>\n</div>"
     },
     "execution_count": 3,
     "metadata": {},
     "output_type": "execute_result"
    }
   ],
   "source": [
    "beijing_aq_plus_met2 = beijing_aq_plus_met.drop(columns=['pressure'])\n",
    "beijing_aq_plus_met2.head(2)"
   ]
  },
  {
   "cell_type": "markdown",
   "id": "52498787",
   "metadata": {
    "pycharm": {
     "name": "#%% md\n"
    }
   },
   "source": [
    "#### Missing data Station IDs: (1022)\n",
    "#### Please refer to the missing statistic in the [Jupyter](https://github.com/hjf1997/Hierarchical_Neural_Processes/blob/master/jupyter/Beijing_airquality.ipynb) for the reason"
   ]
  },
  {
   "cell_type": "code",
   "execution_count": 7,
   "id": "76aeb345",
   "metadata": {
    "pycharm": {
     "name": "#%%\n"
    }
   },
   "outputs": [
    {
     "data": {
      "text/plain": "((36,), (35,))"
     },
     "execution_count": 7,
     "metadata": {},
     "output_type": "execute_result"
    }
   ],
   "source": [
    "beijing_aq_plus_met3 = beijing_aq_plus_met2[~beijing_aq_plus_met2.station_id.isin([1022])]\n",
    "beijing_aq_plus_met2.station_id.unique().shape, beijing_aq_plus_met3.station_id.unique().shape"
   ]
  },
  {
   "cell_type": "code",
   "execution_count": 8,
   "id": "6ddab06e",
   "metadata": {
    "pycharm": {
     "name": "#%%\n"
    }
   },
   "outputs": [],
   "source": [
    "beijing_aq_plus_met3['time'] = pd.to_datetime(beijing_aq_plus_met3['time'])"
   ]
  },
  {
   "cell_type": "markdown",
   "id": "4c75f8c6",
   "metadata": {
    "pycharm": {
     "name": "#%% md\n"
    }
   },
   "source": [
    "### "
   ]
  },
  {
   "cell_type": "code",
   "execution_count": 9,
   "id": "ed71e3fd",
   "metadata": {
    "pycharm": {
     "name": "#%%\n"
    }
   },
   "outputs": [],
   "source": [
    "beijing_aq_plus_met3.to_csv('tmp_beijing_aq_plus_met_preprocessed.csv.gz', index=None)"
   ]
  },
  {
   "cell_type": "code",
   "execution_count": null,
   "outputs": [],
   "source": [],
   "metadata": {
    "collapsed": false,
    "pycharm": {
     "name": "#%%\n"
    }
   }
  }
 ],
 "metadata": {
  "kernelspec": {
   "display_name": "Python 3",
   "language": "python",
   "name": "python3"
  },
  "language_info": {
   "codemirror_mode": {
    "name": "ipython",
    "version": 3
   },
   "file_extension": ".py",
   "mimetype": "text/x-python",
   "name": "python",
   "nbconvert_exporter": "python",
   "pygments_lexer": "ipython3",
   "version": "3.8.8"
  }
 },
 "nbformat": 4,
 "nbformat_minor": 5
}