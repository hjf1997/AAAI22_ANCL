{
 "cells": [
  {
   "cell_type": "code",
   "execution_count": 1,
   "id": "1b5a5b0b",
   "metadata": {
    "pycharm": {
     "name": "#%%\n"
    }
   },
   "outputs": [],
   "source": [
    "import pandas as pd\n",
    "import numpy as np\n",
    "import matplotlib.pyplot as plt\n",
    "from sklearn.model_selection import KFold\n",
    "from sklearn.metrics import mean_squared_error\n",
    "import warnings\n",
    "from IPython.display import clear_output\n",
    "from multiprocessing import Pool\n",
    "from time import time\n",
    "import json\n",
    "warnings.filterwarnings('ignore')"
   ]
  },
  {
   "cell_type": "code",
   "execution_count": 104,
   "id": "edf674f9",
   "metadata": {
    "pycharm": {
     "name": "#%%\n"
    }
   },
   "outputs": [
    {
     "data": {
      "text/plain": "                  time  station_id   longitude   latitude  NO2_Concentration  \\\n0  2014-05-01 00:00:00        1001  116.173553  40.090679               56.3   \n1  2014-05-01 01:00:00        1001  116.173553  40.090679               38.7   \n\n   weather  temperature  humidity  wind_speed  wind_direction  filled  \n0      0.0         20.0      56.0        7.92            13.0   False  \n1      0.0         18.0      64.0        7.56            13.0   False  ",
      "text/html": "<div>\n<style scoped>\n    .dataframe tbody tr th:only-of-type {\n        vertical-align: middle;\n    }\n\n    .dataframe tbody tr th {\n        vertical-align: top;\n    }\n\n    .dataframe thead th {\n        text-align: right;\n    }\n</style>\n<table border=\"1\" class=\"dataframe\">\n  <thead>\n    <tr style=\"text-align: right;\">\n      <th></th>\n      <th>time</th>\n      <th>station_id</th>\n      <th>longitude</th>\n      <th>latitude</th>\n      <th>NO2_Concentration</th>\n      <th>weather</th>\n      <th>temperature</th>\n      <th>humidity</th>\n      <th>wind_speed</th>\n      <th>wind_direction</th>\n      <th>filled</th>\n    </tr>\n  </thead>\n  <tbody>\n    <tr>\n      <th>0</th>\n      <td>2014-05-01 00:00:00</td>\n      <td>1001</td>\n      <td>116.173553</td>\n      <td>40.090679</td>\n      <td>56.3</td>\n      <td>0.0</td>\n      <td>20.0</td>\n      <td>56.0</td>\n      <td>7.92</td>\n      <td>13.0</td>\n      <td>False</td>\n    </tr>\n    <tr>\n      <th>1</th>\n      <td>2014-05-01 01:00:00</td>\n      <td>1001</td>\n      <td>116.173553</td>\n      <td>40.090679</td>\n      <td>38.7</td>\n      <td>0.0</td>\n      <td>18.0</td>\n      <td>64.0</td>\n      <td>7.56</td>\n      <td>13.0</td>\n      <td>False</td>\n    </tr>\n  </tbody>\n</table>\n</div>"
     },
     "metadata": {},
     "output_type": "display_data"
    },
    {
     "data": {
      "text/plain": "                       time  station_id  longitude   latitude  \\\n306598  2015-04-30 22:00:00        1036      116.0  39.579999   \n306599  2015-04-30 23:00:00        1036      116.0  39.579999   \n\n        NO2_Concentration  weather  temperature  humidity  wind_speed  \\\n306598               23.0      5.0         24.4      47.0         2.7   \n306599               23.0      1.0         19.8      72.0         2.6   \n\n        wind_direction  filled  \n306598            23.0   False  \n306599            23.0    True  ",
      "text/html": "<div>\n<style scoped>\n    .dataframe tbody tr th:only-of-type {\n        vertical-align: middle;\n    }\n\n    .dataframe tbody tr th {\n        vertical-align: top;\n    }\n\n    .dataframe thead th {\n        text-align: right;\n    }\n</style>\n<table border=\"1\" class=\"dataframe\">\n  <thead>\n    <tr style=\"text-align: right;\">\n      <th></th>\n      <th>time</th>\n      <th>station_id</th>\n      <th>longitude</th>\n      <th>latitude</th>\n      <th>NO2_Concentration</th>\n      <th>weather</th>\n      <th>temperature</th>\n      <th>humidity</th>\n      <th>wind_speed</th>\n      <th>wind_direction</th>\n      <th>filled</th>\n    </tr>\n  </thead>\n  <tbody>\n    <tr>\n      <th>306598</th>\n      <td>2015-04-30 22:00:00</td>\n      <td>1036</td>\n      <td>116.0</td>\n      <td>39.579999</td>\n      <td>23.0</td>\n      <td>5.0</td>\n      <td>24.4</td>\n      <td>47.0</td>\n      <td>2.7</td>\n      <td>23.0</td>\n      <td>False</td>\n    </tr>\n    <tr>\n      <th>306599</th>\n      <td>2015-04-30 23:00:00</td>\n      <td>1036</td>\n      <td>116.0</td>\n      <td>39.579999</td>\n      <td>23.0</td>\n      <td>1.0</td>\n      <td>19.8</td>\n      <td>72.0</td>\n      <td>2.6</td>\n      <td>23.0</td>\n      <td>True</td>\n    </tr>\n  </tbody>\n</table>\n</div>"
     },
     "metadata": {},
     "output_type": "display_data"
    }
   ],
   "source": [
    "data = pd.read_csv('../data/processed/final_data_NO2.csv.gz')\n",
    "# data = pd.get_dummies(data, columns=['weather', 'wind_direction'])\n",
    "display(data.head(2), data.tail(2))"
   ]
  },
  {
   "cell_type": "code",
   "execution_count": 105,
   "outputs": [
    {
     "data": {
      "text/plain": "306600"
     },
     "execution_count": 105,
     "metadata": {},
     "output_type": "execute_result"
    }
   ],
   "source": [
    "len(data)"
   ],
   "metadata": {
    "collapsed": false,
    "pycharm": {
     "name": "#%%\n"
    }
   }
  },
  {
   "cell_type": "code",
   "execution_count": 106,
   "id": "2c28e42f",
   "metadata": {
    "pycharm": {
     "name": "#%%\n"
    }
   },
   "outputs": [
    {
     "data": {
      "text/plain": "array([1001, 1002, 1003, 1004, 1005, 1006, 1007, 1008, 1009, 1010, 1011,\n       1012, 1013, 1014, 1015, 1016, 1017, 1018, 1019, 1020, 1021, 1023,\n       1024, 1025, 1026, 1027, 1028, 1029, 1030, 1031, 1032, 1033, 1034,\n       1035, 1036])"
     },
     "execution_count": 106,
     "metadata": {},
     "output_type": "execute_result"
    }
   ],
   "source": [
    "all_stations = data.station_id.unique()\n",
    "all_stations"
   ]
  },
  {
   "cell_type": "code",
   "execution_count": 107,
   "outputs": [],
   "source": [
    "train_division = [0.9, 1.0]\n",
    "test_division = [0.9, 1.0]\n",
    "\n",
    "def split_data(data, time_division):\n",
    "    divided_data = []\n",
    "    for id, aq_id in data.groupby('station_id'):\n",
    "        # .interpolate() interpolate noise missing\n",
    "        station_aq = aq_id\n",
    "\n",
    "        # split data into train/dev/test\n",
    "        station_aq = station_aq[int(len(station_aq)*time_division[0]): int(len(station_aq)*time_division[1])]\n",
    "        divided_data.append(station_aq)\n",
    "    data = pd.concat(divided_data)\n",
    "    return data\n",
    "\n",
    "train_division = split_data(data, train_division)\n",
    "test_division = split_data(data, test_division)"
   ],
   "metadata": {
    "collapsed": false,
    "pycharm": {
     "name": "#%%\n"
    }
   }
  },
  {
   "cell_type": "code",
   "execution_count": 108,
   "id": "20fbec85",
   "metadata": {
    "pycharm": {
     "name": "#%%\n"
    }
   },
   "outputs": [],
   "source": [
    "splitter = KFold(n_splits=3, shuffle=True, random_state=1234)\n",
    "folder_info = {}\n",
    "\n",
    "for f_i, (train, test) in enumerate(splitter.split(all_stations)):\n",
    "\n",
    "    train_stations = all_stations[train]\n",
    "    test_stations = all_stations[test]\n",
    "    train_data = train_division[train_division.station_id.isin(train_stations)]\n",
    "\n",
    "    test_context_data = test_division[test_division.station_id.isin(train_stations)]\n",
    "    test_target_data = test_division[test_division.station_id.isin(test_stations)]\n",
    "\n",
    "    train_data.to_csv('../data/NP/fold_'+str(f_i)+'_train_nsgp.csv.gz', index=None)\n",
    "    test_context_data.to_csv('../data/NP/fold_'+str(f_i)+'_test_context_nsgp.csv.gz', index=None)\n",
    "    test_target_data.to_csv('../data/NP/fold_'+str(f_i)+'_test_target_nsgp.csv.gz', index=None)\n",
    "\n",
    "    folder_info[f_i] = {'context': all_stations[train].tolist(),\n",
    "                      'target': all_stations[test].tolist()}\n",
    "\n",
    "with open('../data/NP/folder_info.json','w') as file_obj:\n",
    "    json.dump(folder_info, file_obj)"
   ]
  },
  {
   "cell_type": "markdown",
   "id": "27493d81",
   "metadata": {
    "pycharm": {
     "name": "#%% md\n"
    }
   },
   "source": [
    "### Visualize"
   ]
  },
  {
   "cell_type": "code",
   "execution_count": 109,
   "id": "7113a644",
   "metadata": {
    "pycharm": {
     "name": "#%%\n"
    }
   },
   "outputs": [
    {
     "data": {
      "text/plain": "<Figure size 432x288 with 1 Axes>",
      "image/png": "[encoded data removed]"
     },
     "metadata": {
      "needs_background": "light"
     },
     "output_type": "display_data"
    },
    {
     "data": {
      "text/plain": "<Figure size 432x288 with 1 Axes>",
      "image/png": "[encoded data removed]"
     },
     "metadata": {
      "needs_background": "light"
     },
     "output_type": "display_data"
    },
    {
     "data": {
      "text/plain": "<Figure size 432x288 with 1 Axes>",
      "image/png": "[encoded data removed]"
     },
     "metadata": {
      "needs_background": "light"
     },
     "output_type": "display_data"
    }
   ],
   "source": [
    "for f_i, (train, test) in enumerate(splitter.split(all_stations)):\n",
    "    train_stations = all_stations[train]\n",
    "    test_stations = all_stations[test]\n",
    "    tmp_trn_df = data[data.station_id.isin(train_stations)].drop_duplicates('station_id')\n",
    "    tmp_tst_df = data[data.station_id.isin(test_stations)].drop_duplicates('station_id')\n",
    "    plt.figure()\n",
    "    plt.title('Fold'+str(f_i))\n",
    "    plt.scatter(tmp_trn_df['longitude'], tmp_trn_df['latitude'], label='train')\n",
    "    plt.scatter(tmp_tst_df['longitude'], tmp_tst_df['latitude'], label='test')\n",
    "    plt.legend(bbox_to_anchor=(1.2,1))"
   ]
  },
  {
   "cell_type": "markdown",
   "source": [
    "### Add time feature"
   ],
   "metadata": {
    "collapsed": false,
    "pycharm": {
     "name": "#%% md\n"
    }
   }
  },
  {
   "cell_type": "code",
   "execution_count": 110,
   "outputs": [],
   "source": [
    "def get_time_spaced_data(data, start_time):\n",
    "    data['delta_t'] = np.int64((data.index - start_time).total_seconds() // 3600) + 1\n",
    "#     data = data.drop(columns=['station_id'])\n",
    "#     data.index = range(len(data))\n",
    "    return data"
   ],
   "metadata": {
    "collapsed": false,
    "pycharm": {
     "name": "#%%\n"
    }
   }
  },
  {
   "cell_type": "code",
   "execution_count": 121,
   "outputs": [
    {
     "name": "stdout",
     "output_type": "stream",
     "text": [
      "fold 2\n"
     ]
    }
   ],
   "source": [
    "fold=2 # not using for loop to avoid ram overflow\n",
    "print('fold', fold)\n",
    "\n",
    "train_data = pd.read_csv('../data/NP/fold_'+str(fold)+'_train_nsgp.csv.gz')\n",
    "train_data['time'] = pd.to_datetime(train_data['time'])\n",
    "train_data = train_data.set_index('time').sort_values(['time', 'station_id'])\n",
    "train_start_time = train_data.index[0]\n",
    "\n",
    "test_context_data = pd.read_csv('../data/NP/fold_'+str(fold)+'_test_context_nsgp.csv.gz')\n",
    "test_context_data['time'] = pd.to_datetime(test_context_data['time'])\n",
    "test_context_data = test_context_data.set_index('time').sort_values(['time', 'station_id'])\n",
    "test_start_time = test_context_data.index[0]\n",
    "\n",
    "\n",
    "test_target_data = pd.read_csv('../data/NP/fold_'+str(fold)+'_test_target_nsgp.csv.gz')\n",
    "test_target_data['time'] = pd.to_datetime(test_target_data['time'])\n",
    "test_target_data = test_target_data.set_index('time').sort_values(['time', 'station_id'])"
   ],
   "metadata": {
    "collapsed": false,
    "pycharm": {
     "name": "#%%\n"
    }
   }
  },
  {
   "cell_type": "code",
   "execution_count": 122,
   "outputs": [],
   "source": [
    "train_data = get_time_spaced_data(train_data, train_start_time)\n",
    "test_context = get_time_spaced_data(test_context_data, test_start_time)\n",
    "test_target = get_time_spaced_data(test_target_data, test_start_time)"
   ],
   "metadata": {
    "collapsed": false,
    "pycharm": {
     "name": "#%%\n"
    }
   }
  },
  {
   "cell_type": "code",
   "execution_count": 123,
   "outputs": [
    {
     "data": {
      "text/plain": "                     station_id   longitude   latitude  NO2_Concentration  \\\ntime                                                                        \n2015-03-25 12:00:00        1001  116.173553  40.090679              188.4   \n2015-03-25 12:00:00        1002  116.205310  40.003950               97.5   \n2015-03-25 12:00:00        1003  116.184239  39.914409               98.0   \n2015-03-25 12:00:00        1004  116.171150  39.815128              104.3   \n2015-03-25 12:00:00        1005  116.136045  39.742767              104.8   \n...                         ...         ...        ...                ...   \n2015-04-30 23:00:00        1031  115.988000  40.365000               60.9   \n2015-04-30 23:00:00        1032  116.911000  40.499000               20.0   \n2015-04-30 23:00:00        1033  117.120000  40.100000               24.0   \n2015-04-30 23:00:00        1034  116.783000  39.712000               45.7   \n2015-04-30 23:00:00        1036  116.000000  39.579999               23.0   \n\n                     weather  temperature  humidity  wind_speed  \\\ntime                                                              \n2015-03-25 12:00:00      0.0         16.0      26.0        8.50   \n2015-03-25 12:00:00      0.0         16.0      26.0        8.50   \n2015-03-25 12:00:00      0.0         15.0      26.0        8.50   \n2015-03-25 12:00:00      0.0         16.0      30.0        3.00   \n2015-03-25 12:00:00      0.0         15.0      30.0        9.36   \n...                      ...          ...       ...         ...   \n2015-04-30 23:00:00      1.0         17.9      76.0        1.50   \n2015-04-30 23:00:00      1.0         17.9      80.0        0.40   \n2015-04-30 23:00:00      1.0         19.5      72.0        2.20   \n2015-04-30 23:00:00      0.0         21.0      61.0        8.50   \n2015-04-30 23:00:00      1.0         19.8      72.0        2.60   \n\n                     wind_direction  filled  delta_t  \ntime                                                  \n2015-03-25 12:00:00            23.0   False        1  \n2015-03-25 12:00:00            23.0   False        1  \n2015-03-25 12:00:00            13.0   False        1  \n2015-03-25 12:00:00             2.0   False        1  \n2015-03-25 12:00:00            23.0   False        1  \n...                             ...     ...      ...  \n2015-04-30 23:00:00            14.0    True      876  \n2015-04-30 23:00:00            14.0    True      876  \n2015-04-30 23:00:00            13.0    True      876  \n2015-04-30 23:00:00             3.0    True      876  \n2015-04-30 23:00:00            23.0    True      876  \n\n[21024 rows x 11 columns]",
      "text/html": "<div>\n<style scoped>\n    .dataframe tbody tr th:only-of-type {\n        vertical-align: middle;\n    }\n\n    .dataframe tbody tr th {\n        vertical-align: top;\n    }\n\n    .dataframe thead th {\n        text-align: right;\n    }\n</style>\n<table border=\"1\" class=\"dataframe\">\n  <thead>\n    <tr style=\"text-align: right;\">\n      <th></th>\n      <th>station_id</th>\n      <th>longitude</th>\n      <th>latitude</th>\n      <th>NO2_Concentration</th>\n      <th>weather</th>\n      <th>temperature</th>\n      <th>humidity</th>\n      <th>wind_speed</th>\n      <th>wind_direction</th>\n      <th>filled</th>\n      <th>delta_t</th>\n    </tr>\n    <tr>\n      <th>time</th>\n      <th></th>\n      <th></th>\n      <th></th>\n      <th></th>\n      <th></th>\n      <th></th>\n      <th></th>\n      <th></th>\n      <th></th>\n      <th></th>\n      <th></th>\n    </tr>\n  </thead>\n  <tbody>\n    <tr>\n      <th>2015-03-25 12:00:00</th>\n      <td>1001</td>\n      <td>116.173553</td>\n      <td>40.090679</td>\n      <td>188.4</td>\n      <td>0.0</td>\n      <td>16.0</td>\n      <td>26.0</td>\n      <td>8.50</td>\n      <td>23.0</td>\n      <td>False</td>\n      <td>1</td>\n    </tr>\n    <tr>\n      <th>2015-03-25 12:00:00</th>\n      <td>1002</td>\n      <td>116.205310</td>\n      <td>40.003950</td>\n      <td>97.5</td>\n      <td>0.0</td>\n      <td>16.0</td>\n      <td>26.0</td>\n      <td>8.50</td>\n      <td>23.0</td>\n      <td>False</td>\n      <td>1</td>\n    </tr>\n    <tr>\n      <th>2015-03-25 12:00:00</th>\n      <td>1003</td>\n      <td>116.184239</td>\n      <td>39.914409</td>\n      <td>98.0</td>\n      <td>0.0</td>\n      <td>15.0</td>\n      <td>26.0</td>\n      <td>8.50</td>\n      <td>13.0</td>\n      <td>False</td>\n      <td>1</td>\n    </tr>\n    <tr>\n      <th>2015-03-25 12:00:00</th>\n      <td>1004</td>\n      <td>116.171150</td>\n      <td>39.815128</td>\n      <td>104.3</td>\n      <td>0.0</td>\n      <td>16.0</td>\n      <td>30.0</td>\n      <td>3.00</td>\n      <td>2.0</td>\n      <td>False</td>\n      <td>1</td>\n    </tr>\n    <tr>\n      <th>2015-03-25 12:00:00</th>\n      <td>1005</td>\n      <td>116.136045</td>\n      <td>39.742767</td>\n      <td>104.8</td>\n      <td>0.0</td>\n      <td>15.0</td>\n      <td>30.0</td>\n      <td>9.36</td>\n      <td>23.0</td>\n      <td>False</td>\n      <td>1</td>\n    </tr>\n    <tr>\n      <th>...</th>\n      <td>...</td>\n      <td>...</td>\n      <td>...</td>\n      <td>...</td>\n      <td>...</td>\n      <td>...</td>\n      <td>...</td>\n      <td>...</td>\n      <td>...</td>\n      <td>...</td>\n      <td>...</td>\n    </tr>\n    <tr>\n      <th>2015-04-30 23:00:00</th>\n      <td>1031</td>\n      <td>115.988000</td>\n      <td>40.365000</td>\n      <td>60.9</td>\n      <td>1.0</td>\n      <td>17.9</td>\n      <td>76.0</td>\n      <td>1.50</td>\n      <td>14.0</td>\n      <td>True</td>\n      <td>876</td>\n    </tr>\n    <tr>\n      <th>2015-04-30 23:00:00</th>\n      <td>1032</td>\n      <td>116.911000</td>\n      <td>40.499000</td>\n      <td>20.0</td>\n      <td>1.0</td>\n      <td>17.9</td>\n      <td>80.0</td>\n      <td>0.40</td>\n      <td>14.0</td>\n      <td>True</td>\n      <td>876</td>\n    </tr>\n    <tr>\n      <th>2015-04-30 23:00:00</th>\n      <td>1033</td>\n      <td>117.120000</td>\n      <td>40.100000</td>\n      <td>24.0</td>\n      <td>1.0</td>\n      <td>19.5</td>\n      <td>72.0</td>\n      <td>2.20</td>\n      <td>13.0</td>\n      <td>True</td>\n      <td>876</td>\n    </tr>\n    <tr>\n      <th>2015-04-30 23:00:00</th>\n      <td>1034</td>\n      <td>116.783000</td>\n      <td>39.712000</td>\n      <td>45.7</td>\n      <td>0.0</td>\n      <td>21.0</td>\n      <td>61.0</td>\n      <td>8.50</td>\n      <td>3.0</td>\n      <td>True</td>\n      <td>876</td>\n    </tr>\n    <tr>\n      <th>2015-04-30 23:00:00</th>\n      <td>1036</td>\n      <td>116.000000</td>\n      <td>39.579999</td>\n      <td>23.0</td>\n      <td>1.0</td>\n      <td>19.8</td>\n      <td>72.0</td>\n      <td>2.60</td>\n      <td>23.0</td>\n      <td>True</td>\n      <td>876</td>\n    </tr>\n  </tbody>\n</table>\n<p>21024 rows × 11 columns</p>\n</div>"
     },
     "metadata": {},
     "output_type": "display_data"
    },
    {
     "data": {
      "text/plain": "                     station_id   longitude   latitude  NO2_Concentration  \\\ntime                                                                        \n2015-03-25 12:00:00        1001  116.173553  40.090679              188.4   \n2015-03-25 12:00:00        1002  116.205310  40.003950               97.5   \n2015-03-25 12:00:00        1003  116.184239  39.914409               98.0   \n2015-03-25 12:00:00        1004  116.171150  39.815128              104.3   \n2015-03-25 12:00:00        1005  116.136045  39.742767              104.8   \n...                         ...         ...        ...                ...   \n2015-04-30 23:00:00        1031  115.988000  40.365000               60.9   \n2015-04-30 23:00:00        1032  116.911000  40.499000               20.0   \n2015-04-30 23:00:00        1033  117.120000  40.100000               24.0   \n2015-04-30 23:00:00        1034  116.783000  39.712000               45.7   \n2015-04-30 23:00:00        1036  116.000000  39.579999               23.0   \n\n                     weather  temperature  humidity  wind_speed  \\\ntime                                                              \n2015-03-25 12:00:00      0.0         16.0      26.0        8.50   \n2015-03-25 12:00:00      0.0         16.0      26.0        8.50   \n2015-03-25 12:00:00      0.0         15.0      26.0        8.50   \n2015-03-25 12:00:00      0.0         16.0      30.0        3.00   \n2015-03-25 12:00:00      0.0         15.0      30.0        9.36   \n...                      ...          ...       ...         ...   \n2015-04-30 23:00:00      1.0         17.9      76.0        1.50   \n2015-04-30 23:00:00      1.0         17.9      80.0        0.40   \n2015-04-30 23:00:00      1.0         19.5      72.0        2.20   \n2015-04-30 23:00:00      0.0         21.0      61.0        8.50   \n2015-04-30 23:00:00      1.0         19.8      72.0        2.60   \n\n                     wind_direction  filled  delta_t  \ntime                                                  \n2015-03-25 12:00:00            23.0   False        1  \n2015-03-25 12:00:00            23.0   False        1  \n2015-03-25 12:00:00            13.0   False        1  \n2015-03-25 12:00:00             2.0   False        1  \n2015-03-25 12:00:00            23.0   False        1  \n...                             ...     ...      ...  \n2015-04-30 23:00:00            14.0    True      876  \n2015-04-30 23:00:00            14.0    True      876  \n2015-04-30 23:00:00            13.0    True      876  \n2015-04-30 23:00:00             3.0    True      876  \n2015-04-30 23:00:00            23.0    True      876  \n\n[21024 rows x 11 columns]",
      "text/html": "<div>\n<style scoped>\n    .dataframe tbody tr th:only-of-type {\n        vertical-align: middle;\n    }\n\n    .dataframe tbody tr th {\n        vertical-align: top;\n    }\n\n    .dataframe thead th {\n        text-align: right;\n    }\n</style>\n<table border=\"1\" class=\"dataframe\">\n  <thead>\n    <tr style=\"text-align: right;\">\n      <th></th>\n      <th>station_id</th>\n      <th>longitude</th>\n      <th>latitude</th>\n      <th>NO2_Concentration</th>\n      <th>weather</th>\n      <th>temperature</th>\n      <th>humidity</th>\n      <th>wind_speed</th>\n      <th>wind_direction</th>\n      <th>filled</th>\n      <th>delta_t</th>\n    </tr>\n    <tr>\n      <th>time</th>\n      <th></th>\n      <th></th>\n      <th></th>\n      <th></th>\n      <th></th>\n      <th></th>\n      <th></th>\n      <th></th>\n      <th></th>\n      <th></th>\n      <th></th>\n    </tr>\n  </thead>\n  <tbody>\n    <tr>\n      <th>2015-03-25 12:00:00</th>\n      <td>1001</td>\n      <td>116.173553</td>\n      <td>40.090679</td>\n      <td>188.4</td>\n      <td>0.0</td>\n      <td>16.0</td>\n      <td>26.0</td>\n      <td>8.50</td>\n      <td>23.0</td>\n      <td>False</td>\n      <td>1</td>\n    </tr>\n    <tr>\n      <th>2015-03-25 12:00:00</th>\n      <td>1002</td>\n      <td>116.205310</td>\n      <td>40.003950</td>\n      <td>97.5</td>\n      <td>0.0</td>\n      <td>16.0</td>\n      <td>26.0</td>\n      <td>8.50</td>\n      <td>23.0</td>\n      <td>False</td>\n      <td>1</td>\n    </tr>\n    <tr>\n      <th>2015-03-25 12:00:00</th>\n      <td>1003</td>\n      <td>116.184239</td>\n      <td>39.914409</td>\n      <td>98.0</td>\n      <td>0.0</td>\n      <td>15.0</td>\n      <td>26.0</td>\n      <td>8.50</td>\n      <td>13.0</td>\n      <td>False</td>\n      <td>1</td>\n    </tr>\n    <tr>\n      <th>2015-03-25 12:00:00</th>\n      <td>1004</td>\n      <td>116.171150</td>\n      <td>39.815128</td>\n      <td>104.3</td>\n      <td>0.0</td>\n      <td>16.0</td>\n      <td>30.0</td>\n      <td>3.00</td>\n      <td>2.0</td>\n      <td>False</td>\n      <td>1</td>\n    </tr>\n    <tr>\n      <th>2015-03-25 12:00:00</th>\n      <td>1005</td>\n      <td>116.136045</td>\n      <td>39.742767</td>\n      <td>104.8</td>\n      <td>0.0</td>\n      <td>15.0</td>\n      <td>30.0</td>\n      <td>9.36</td>\n      <td>23.0</td>\n      <td>False</td>\n      <td>1</td>\n    </tr>\n    <tr>\n      <th>...</th>\n      <td>...</td>\n      <td>...</td>\n      <td>...</td>\n      <td>...</td>\n      <td>...</td>\n      <td>...</td>\n      <td>...</td>\n      <td>...</td>\n      <td>...</td>\n      <td>...</td>\n      <td>...</td>\n    </tr>\n    <tr>\n      <th>2015-04-30 23:00:00</th>\n      <td>1031</td>\n      <td>115.988000</td>\n      <td>40.365000</td>\n      <td>60.9</td>\n      <td>1.0</td>\n      <td>17.9</td>\n      <td>76.0</td>\n      <td>1.50</td>\n      <td>14.0</td>\n      <td>True</td>\n      <td>876</td>\n    </tr>\n    <tr>\n      <th>2015-04-30 23:00:00</th>\n      <td>1032</td>\n      <td>116.911000</td>\n      <td>40.499000</td>\n      <td>20.0</td>\n      <td>1.0</td>\n      <td>17.9</td>\n      <td>80.0</td>\n      <td>0.40</td>\n      <td>14.0</td>\n      <td>True</td>\n      <td>876</td>\n    </tr>\n    <tr>\n      <th>2015-04-30 23:00:00</th>\n      <td>1033</td>\n      <td>117.120000</td>\n      <td>40.100000</td>\n      <td>24.0</td>\n      <td>1.0</td>\n      <td>19.5</td>\n      <td>72.0</td>\n      <td>2.20</td>\n      <td>13.0</td>\n      <td>True</td>\n      <td>876</td>\n    </tr>\n    <tr>\n      <th>2015-04-30 23:00:00</th>\n      <td>1034</td>\n      <td>116.783000</td>\n      <td>39.712000</td>\n      <td>45.7</td>\n      <td>0.0</td>\n      <td>21.0</td>\n      <td>61.0</td>\n      <td>8.50</td>\n      <td>3.0</td>\n      <td>True</td>\n      <td>876</td>\n    </tr>\n    <tr>\n      <th>2015-04-30 23:00:00</th>\n      <td>1036</td>\n      <td>116.000000</td>\n      <td>39.579999</td>\n      <td>23.0</td>\n      <td>1.0</td>\n      <td>19.8</td>\n      <td>72.0</td>\n      <td>2.60</td>\n      <td>23.0</td>\n      <td>True</td>\n      <td>876</td>\n    </tr>\n  </tbody>\n</table>\n<p>21024 rows × 11 columns</p>\n</div>"
     },
     "metadata": {},
     "output_type": "display_data"
    },
    {
     "data": {
      "text/plain": "                     station_id   longitude   latitude  NO2_Concentration  \\\ntime                                                                        \n2015-03-25 12:00:00        1010  116.394009  39.876184              138.6   \n2015-03-25 12:00:00        1012  116.460742  39.937119              116.0   \n2015-03-25 12:00:00        1013  116.416883  39.929287              102.0   \n2015-03-25 12:00:00        1016  116.279082  39.863470              111.3   \n2015-03-25 12:00:00        1018  116.506319  39.794491               93.4   \n...                         ...         ...        ...                ...   \n2015-04-30 23:00:00        1025  116.105999  39.936999               44.0   \n2015-04-30 23:00:00        1026  117.099999  40.143000               26.2   \n2015-04-30 23:00:00        1027  116.628000  40.328000               34.0   \n2015-04-30 23:00:00        1028  116.831999  40.369999               29.0   \n2015-04-30 23:00:00        1035  116.300000  39.520000               24.9   \n\n                     weather  temperature  humidity  wind_speed  \\\ntime                                                              \n2015-03-25 12:00:00      0.0         16.0      30.0        3.00   \n2015-03-25 12:00:00      0.0         18.0      12.0       11.88   \n2015-03-25 12:00:00      4.0         25.0      46.0        3.24   \n2015-03-25 12:00:00      0.0         16.0      30.0        3.00   \n2015-03-25 12:00:00      0.0         15.0      34.0       10.44   \n...                      ...          ...       ...         ...   \n2015-04-30 23:00:00      1.0         20.6      70.0        1.80   \n2015-04-30 23:00:00      1.0         19.5      72.0        2.20   \n2015-04-30 23:00:00      1.0         18.7      80.0        1.10   \n2015-04-30 23:00:00      1.0         17.9      80.0        0.40   \n2015-04-30 23:00:00      1.0         20.3      69.0        1.00   \n\n                     wind_direction  filled  delta_t  \ntime                                                  \n2015-03-25 12:00:00             2.0   False        1  \n2015-03-25 12:00:00            23.0   False        1  \n2015-03-25 12:00:00            23.0   False        1  \n2015-03-25 12:00:00             2.0   False        1  \n2015-03-25 12:00:00            13.0   False        1  \n...                             ...     ...      ...  \n2015-04-30 23:00:00            13.0    True      876  \n2015-04-30 23:00:00            13.0    True      876  \n2015-04-30 23:00:00            24.0    True      876  \n2015-04-30 23:00:00            14.0    True      876  \n2015-04-30 23:00:00            13.0    True      876  \n\n[9636 rows x 11 columns]",
      "text/html": "<div>\n<style scoped>\n    .dataframe tbody tr th:only-of-type {\n        vertical-align: middle;\n    }\n\n    .dataframe tbody tr th {\n        vertical-align: top;\n    }\n\n    .dataframe thead th {\n        text-align: right;\n    }\n</style>\n<table border=\"1\" class=\"dataframe\">\n  <thead>\n    <tr style=\"text-align: right;\">\n      <th></th>\n      <th>station_id</th>\n      <th>longitude</th>\n      <th>latitude</th>\n      <th>NO2_Concentration</th>\n      <th>weather</th>\n      <th>temperature</th>\n      <th>humidity</th>\n      <th>wind_speed</th>\n      <th>wind_direction</th>\n      <th>filled</th>\n      <th>delta_t</th>\n    </tr>\n    <tr>\n      <th>time</th>\n      <th></th>\n      <th></th>\n      <th></th>\n      <th></th>\n      <th></th>\n      <th></th>\n      <th></th>\n      <th></th>\n      <th></th>\n      <th></th>\n      <th></th>\n    </tr>\n  </thead>\n  <tbody>\n    <tr>\n      <th>2015-03-25 12:00:00</th>\n      <td>1010</td>\n      <td>116.394009</td>\n      <td>39.876184</td>\n      <td>138.6</td>\n      <td>0.0</td>\n      <td>16.0</td>\n      <td>30.0</td>\n      <td>3.00</td>\n      <td>2.0</td>\n      <td>False</td>\n      <td>1</td>\n    </tr>\n    <tr>\n      <th>2015-03-25 12:00:00</th>\n      <td>1012</td>\n      <td>116.460742</td>\n      <td>39.937119</td>\n      <td>116.0</td>\n      <td>0.0</td>\n      <td>18.0</td>\n      <td>12.0</td>\n      <td>11.88</td>\n      <td>23.0</td>\n      <td>False</td>\n      <td>1</td>\n    </tr>\n    <tr>\n      <th>2015-03-25 12:00:00</th>\n      <td>1013</td>\n      <td>116.416883</td>\n      <td>39.929287</td>\n      <td>102.0</td>\n      <td>4.0</td>\n      <td>25.0</td>\n      <td>46.0</td>\n      <td>3.24</td>\n      <td>23.0</td>\n      <td>False</td>\n      <td>1</td>\n    </tr>\n    <tr>\n      <th>2015-03-25 12:00:00</th>\n      <td>1016</td>\n      <td>116.279082</td>\n      <td>39.863470</td>\n      <td>111.3</td>\n      <td>0.0</td>\n      <td>16.0</td>\n      <td>30.0</td>\n      <td>3.00</td>\n      <td>2.0</td>\n      <td>False</td>\n      <td>1</td>\n    </tr>\n    <tr>\n      <th>2015-03-25 12:00:00</th>\n      <td>1018</td>\n      <td>116.506319</td>\n      <td>39.794491</td>\n      <td>93.4</td>\n      <td>0.0</td>\n      <td>15.0</td>\n      <td>34.0</td>\n      <td>10.44</td>\n      <td>13.0</td>\n      <td>False</td>\n      <td>1</td>\n    </tr>\n    <tr>\n      <th>...</th>\n      <td>...</td>\n      <td>...</td>\n      <td>...</td>\n      <td>...</td>\n      <td>...</td>\n      <td>...</td>\n      <td>...</td>\n      <td>...</td>\n      <td>...</td>\n      <td>...</td>\n      <td>...</td>\n    </tr>\n    <tr>\n      <th>2015-04-30 23:00:00</th>\n      <td>1025</td>\n      <td>116.105999</td>\n      <td>39.936999</td>\n      <td>44.0</td>\n      <td>1.0</td>\n      <td>20.6</td>\n      <td>70.0</td>\n      <td>1.80</td>\n      <td>13.0</td>\n      <td>True</td>\n      <td>876</td>\n    </tr>\n    <tr>\n      <th>2015-04-30 23:00:00</th>\n      <td>1026</td>\n      <td>117.099999</td>\n      <td>40.143000</td>\n      <td>26.2</td>\n      <td>1.0</td>\n      <td>19.5</td>\n      <td>72.0</td>\n      <td>2.20</td>\n      <td>13.0</td>\n      <td>True</td>\n      <td>876</td>\n    </tr>\n    <tr>\n      <th>2015-04-30 23:00:00</th>\n      <td>1027</td>\n      <td>116.628000</td>\n      <td>40.328000</td>\n      <td>34.0</td>\n      <td>1.0</td>\n      <td>18.7</td>\n      <td>80.0</td>\n      <td>1.10</td>\n      <td>24.0</td>\n      <td>True</td>\n      <td>876</td>\n    </tr>\n    <tr>\n      <th>2015-04-30 23:00:00</th>\n      <td>1028</td>\n      <td>116.831999</td>\n      <td>40.369999</td>\n      <td>29.0</td>\n      <td>1.0</td>\n      <td>17.9</td>\n      <td>80.0</td>\n      <td>0.40</td>\n      <td>14.0</td>\n      <td>True</td>\n      <td>876</td>\n    </tr>\n    <tr>\n      <th>2015-04-30 23:00:00</th>\n      <td>1035</td>\n      <td>116.300000</td>\n      <td>39.520000</td>\n      <td>24.9</td>\n      <td>1.0</td>\n      <td>20.3</td>\n      <td>69.0</td>\n      <td>1.00</td>\n      <td>13.0</td>\n      <td>True</td>\n      <td>876</td>\n    </tr>\n  </tbody>\n</table>\n<p>9636 rows × 11 columns</p>\n</div>"
     },
     "metadata": {},
     "output_type": "display_data"
    }
   ],
   "source": [
    "display(train_data,test_context,test_target)"
   ],
   "metadata": {
    "collapsed": false,
    "pycharm": {
     "name": "#%%\n"
    }
   }
  },
  {
   "cell_type": "code",
   "execution_count": 124,
   "outputs": [
    {
     "data": {
      "text/plain": "(21024, 11)"
     },
     "metadata": {},
     "output_type": "display_data"
    },
    {
     "data": {
      "text/plain": "(21024, 11)"
     },
     "metadata": {},
     "output_type": "display_data"
    },
    {
     "data": {
      "text/plain": "(9636, 11)"
     },
     "metadata": {},
     "output_type": "display_data"
    }
   ],
   "source": [
    "display(train_data.shape, test_context.shape, test_target.shape)"
   ],
   "metadata": {
    "collapsed": false,
    "pycharm": {
     "name": "#%%\n"
    }
   }
  },
  {
   "cell_type": "code",
   "execution_count": 125,
   "outputs": [],
   "source": [
    "train_data.reset_index().to_csv('../data/NP/time_feature/fold'+str(fold)+'/train_data_nsgp.csv.gz', index=None)\n",
    "test_context.reset_index().to_csv('../data/NP/time_feature/fold'+str(fold)+'/test_context_data_nsgp.csv.gz', index=None)\n",
    "test_target.reset_index().to_csv('../data/NP/time_feature/fold'+str(fold)+'/test_target_data_nsgp.csv.gz', index=None)"
   ],
   "metadata": {
    "collapsed": false,
    "pycharm": {
     "name": "#%%\n"
    }
   }
  },
  {
   "cell_type": "code",
   "execution_count": null,
   "outputs": [],
   "source": [],
   "metadata": {
    "collapsed": false,
    "pycharm": {
     "name": "#%%\n"
    }
   }
  }
 ],
 "metadata": {
  "kernelspec": {
   "display_name": "Python 3 (ipykernel)",
   "language": "python",
   "name": "python3"
  },
  "language_info": {
   "codemirror_mode": {
    "name": "ipython",
    "version": 3
   },
   "file_extension": ".py",
   "mimetype": "text/x-python",
   "name": "python",
   "nbconvert_exporter": "python",
   "pygments_lexer": "ipython3",
   "version": "3.7.10"
  }
 },
 "nbformat": 4,
 "nbformat_minor": 5
}